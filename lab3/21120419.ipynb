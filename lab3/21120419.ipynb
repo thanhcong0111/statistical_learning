{
  "cells": [
    {
      "cell_type": "markdown",
      "metadata": {
        "id": "AKC04FZL1BKd"
      },
      "source": [
        "#Import relevant modules"
      ]
    },
    {
      "cell_type": "code",
      "execution_count": 1,
      "metadata": {
        "id": "JwnaK2-G0-MA"
      },
      "outputs": [],
      "source": [
        "#@title Import relevant modules\n",
        "import numpy as np\n",
        "import pandas as pd\n",
        "import tensorflow as tf\n",
        "from tensorflow.keras import layers\n",
        "from matplotlib import pyplot as plt\n",
        "\n",
        "# The following lines adjust the granularity of reporting.\n",
        "pd.options.display.max_rows = 10\n",
        "pd.options.display.float_format = \"{:.1f}\".format\n",
        "\n",
        "# The following line improves formatting when ouputting NumPy arrays.\n",
        "np.set_printoptions(linewidth = 200)"
      ]
    },
    {
      "cell_type": "markdown",
      "metadata": {
        "id": "imoZshLA1Kgp"
      },
      "source": [
        "#Load the dataset"
      ]
    },
    {
      "cell_type": "code",
      "execution_count": 2,
      "metadata": {
        "id": "u5Z3bFyO1KNo",
        "colab": {
          "base_uri": "https://localhost:8080/"
        },
        "outputId": "3c218e59-f134-4fbd-af15-433c34713503"
      },
      "outputs": [
        {
          "output_type": "stream",
          "name": "stdout",
          "text": [
            "Downloading data from https://storage.googleapis.com/tensorflow/tf-keras-datasets/mnist.npz\n",
            "11490434/11490434 [==============================] - 0s 0us/step\n"
          ]
        }
      ],
      "source": [
        "(x_train, y_train),(x_test, y_test) = tf.keras.datasets.mnist.load_data()"
      ]
    },
    {
      "cell_type": "markdown",
      "metadata": {
        "id": "vz5LMAE31S4q"
      },
      "source": [
        "#View the dataset"
      ]
    },
    {
      "cell_type": "code",
      "execution_count": 3,
      "metadata": {
        "colab": {
          "base_uri": "https://localhost:8080/",
          "height": 68
        },
        "id": "wRPcViiX1SpL",
        "outputId": "36f8337b-d575-4a2f-f3d1-8aa88719c0d1"
      },
      "outputs": [
        {
          "output_type": "execute_result",
          "data": {
            "text/plain": [
              "array([[  0,   0,   0,   0,   0,   0,   0,   0,   0,   0,   0,   0,   0,   0,   0,   0,   0,   0,   0,   0,   0,   0,   0,   0,   0,   0,   0,   0],\n",
              "       [  0,   0,   0,   0,   0,   0,   0,   0,   0,   0,   0,   0,   0,   0,   0,   0,   0,   0,   0,   0,   0,   0,   0,   0,   0,   0,   0,   0],\n",
              "       [  0,   0,   0,   0,   0,   0,   0,   0,   0,   0,   0,   0,   0,   0,   0,   0,   0,   0,   0,   0,   0,   0,   0,   0,   0,   0,   0,   0],\n",
              "       [  0,   0,   0,   0,   0,   0,   0,   0,   0,   0,   0,   0,   0,   0,   0,   0,   0,   0,   0,   0,   0,   0,   0,   0,   0,   0,   0,   0],\n",
              "       [  0,   0,   0,   0,   0,   0,   0,   0,   0,   0,   0,   0,   0,   0,   0,   0,   0,   0,   0,   0,   0,   0,   0,   0,   0,   0,   0,   0],\n",
              "       [  0,   0,   0,   0,   0,   0,   0,   0,   0,   0,   0,   0,   0,   0,   0,   0,   0,   0,   0,   0,   0,   0,   0,   0,   0,   0,   0,   0],\n",
              "       [  0,   0,   0,   0,   0,   0,   0,   0, 127, 100, 156, 239, 224, 177, 213, 159,  70,  13,   0,   0,   0,   0,   0,   0,   0,   0,   0,   0],\n",
              "       [  0,   0,   0,   0,   0,   0,   0, 110, 250, 254, 254, 254, 254, 254, 254, 254, 254, 184,  10,   0,   0,   0,   0,   0,   0,   0,   0,   0],\n",
              "       [  0,   0,   0,   0,   0,   0,   0, 216, 254, 254, 254, 254, 254, 254, 254, 254, 254, 251,  54,   0,   0,   0,   0,   0,   0,   0,   0,   0],\n",
              "       [  0,   0,   0,   0,   0,   0,   0,   3, 131, 197,  68, 137, 101,  83,  41,  70, 221, 254, 108,   0,   0,   0,   0,   0,   0,   0,   0,   0],\n",
              "       [  0,   0,   0,   0,   0,   0,   0,   0,   0,   0,   0,   0,   0,   0,   0,   0,  58, 254, 216,  11,   0,   0,   0,   0,   0,   0,   0,   0],\n",
              "       [  0,   0,   0,   0,   0,   0,   0,   0,   0,   0,   0,   0,   0,   0,   0,   0, 110, 254, 254,  24,   0,   0,   0,   0,   0,   0,   0,   0],\n",
              "       [  0,   0,   0,   0,   0,   0,   0,   0,   0,   0,   0,   0,   0,   0,   4,  83, 247, 254, 192,  10,   0,   0,   0,   0,   0,   0,   0,   0],\n",
              "       [  0,   0,   0,   0,   0,   0,   0,   0,   0,   0,   0,   0,   0,  37, 124, 254, 254, 250,  47,   0,   0,   0,   0,   0,   0,   0,   0,   0],\n",
              "       [  0,   0,   0,   0,   0,   0,   0,   0,   0,   0,   0, 113, 178, 250, 254, 254, 254, 252, 178, 128,  50,   0,   0,   0,   0,   0,   0,   0],\n",
              "       [  0,   0,   0,   0,   0,   0,   0,   0,   0,   0,  69, 252, 254, 254, 254, 254, 254, 254, 254, 254, 153,   0,   0,   0,   0,   0,   0,   0],\n",
              "       [  0,   0,   0,   0,   0,   0,   0,   0,   0,   0, 141, 252, 254, 241, 241, 254, 247, 252, 254, 254, 153,   0,   0,   0,   0,   0,   0,   0],\n",
              "       [  0,   0,   0,   0,   0,   0,   0,   0,   0,   0,   0,  68,  82,   5,   5,  82,  37,  65, 167, 254, 190,   0,   0,   0,   0,   0,   0,   0],\n",
              "       [  0,   0,   0,   0,   0,   0,   0,   0,   0,   0,   0,   0,   0,   0,   0,   0,   0,   0, 162, 254, 153,   0,   0,   0,   0,   0,   0,   0],\n",
              "       [  0,   0,   0,   0,   0,   0,   0,   0,   0,   0,   0,   0,   0,   0,   0,   0,   0,   1, 172, 253,  75,   0,   0,   0,   0,   0,   0,   0],\n",
              "       [  0,   0,   0,   0,   0,   0,   0,   0,   0,   0,   0,   0,   0,   0,   0,   0,   0, 102, 254, 152,   0,   0,   0,   0,   0,   0,   0,   0],\n",
              "       [  0,   0,   0,   0,   0,   0,   0,   0,   0,   0,   0,   0,   0,   0,   0,   0,  38, 230, 216,  20,   0,   0,   0,   0,   0,   0,   0,   0],\n",
              "       [  0,   0,   0,   0,   0,   0,   0,   0,   0,   0,   0,   0,   0,   0,   1,  71, 222, 254, 142,   0,   0,   0,   0,   0,   0,   0,   0,   0],\n",
              "       [  0,   0,   0,   0,   0,   0,   0,   0,   0,   0,   0,   0,   0,   0,  66, 254, 254, 157,   0,   0,   0,   0,   0,   0,   0,   0,   0,   0],\n",
              "       [  0,   0,   0,   0,   0,   0,   0,   0,   4,  34,  34,  78, 161, 226, 249, 254, 154,   6,   0,   0,   0,   0,   0,   0,   0,   0,   0,   0],\n",
              "       [  0,   0,   0,   0,   0,   0,   0,  96, 184, 254, 254, 254, 254, 254, 249,  93,   5,   0,   0,   0,   0,   0,   0,   0,   0,   0,   0,   0],\n",
              "       [  0,   0,   0,   0,   0,   0,   0,   0,   0,   0,   0,   0,   0,   0,   0,   0,   0,   0,   0,   0,   0,   0,   0,   0,   0,   0,   0,   0],\n",
              "       [  0,   0,   0,   0,   0,   0,   0,   0,   0,   0,   0,   0,   0,   0,   0,   0,   0,   0,   0,   0,   0,   0,   0,   0,   0,   0,   0,   0]], dtype=uint8)"
            ],
            "text/html": [
              "<style>\n",
              "      .ndarray_repr .ndarray_raw_data {\n",
              "        display: none;\n",
              "      }\n",
              "      .ndarray_repr.show_array .ndarray_raw_data {\n",
              "        display: block;\n",
              "      }\n",
              "      .ndarray_repr.show_array .ndarray_image_preview {\n",
              "        display: none;\n",
              "      }\n",
              "      </style>\n",
              "      <div id=\"id-46c0fb90-63a3-4fcf-8e7c-5aa8ab3f595c\" class=\"ndarray_repr\"><pre>ndarray (28, 28) <button style=\"padding: 0 2px;\">show data</button></pre><img src=\"data:image/png;base64,iVBORw0KGgoAAAANSUhEUgAAABwAAAAcCAAAAABXZoBIAAAA1ElEQVR4nGNgGEqAEcaof2oR/PGiyqnlxz9jKMr79Q8KdnBhSN6Ayf37bQYXZILS2q3H3brTQ7U97jObYeiEA6t/N7jRdcKBCYMaLw59LMHf/x3AdBEDAwMDg2rNv3+/9LFKFW769e/fvz+bGoww5Vz/wHwzE9NBHgwMnz8z/PyH3UaXIFbWIFXH5f/24XAuAwPDImzGQgEj1/9NODWm/ZuBU07t2Q0RHFKM7vf+9eHS5/Tv31wswixKSn4LH/38N4sNUy5hx79///79+xnLitM1pAAACDhcuN3dt1kAAAAASUVORK5CYII=\" class=\"ndarray_image_preview\" /><pre class=\"ndarray_raw_data\">array([[  0,   0,   0,   0,   0,   0,   0,   0,   0,   0,   0,   0,   0,   0,   0,   0,   0,   0,   0,   0,   0,   0,   0,   0,   0,   0,   0,   0],\n",
              "       [  0,   0,   0,   0,   0,   0,   0,   0,   0,   0,   0,   0,   0,   0,   0,   0,   0,   0,   0,   0,   0,   0,   0,   0,   0,   0,   0,   0],\n",
              "       [  0,   0,   0,   0,   0,   0,   0,   0,   0,   0,   0,   0,   0,   0,   0,   0,   0,   0,   0,   0,   0,   0,   0,   0,   0,   0,   0,   0],\n",
              "       [  0,   0,   0,   0,   0,   0,   0,   0,   0,   0,   0,   0,   0,   0,   0,   0,   0,   0,   0,   0,   0,   0,   0,   0,   0,   0,   0,   0],\n",
              "       [  0,   0,   0,   0,   0,   0,   0,   0,   0,   0,   0,   0,   0,   0,   0,   0,   0,   0,   0,   0,   0,   0,   0,   0,   0,   0,   0,   0],\n",
              "       [  0,   0,   0,   0,   0,   0,   0,   0,   0,   0,   0,   0,   0,   0,   0,   0,   0,   0,   0,   0,   0,   0,   0,   0,   0,   0,   0,   0],\n",
              "       [  0,   0,   0,   0,   0,   0,   0,   0, 127, 100, 156, 239, 224, 177, 213, 159,  70,  13,   0,   0,   0,   0,   0,   0,   0,   0,   0,   0],\n",
              "       [  0,   0,   0,   0,   0,   0,   0, 110, 250, 254, 254, 254, 254, 254, 254, 254, 254, 184,  10,   0,   0,   0,   0,   0,   0,   0,   0,   0],\n",
              "       [  0,   0,   0,   0,   0,   0,   0, 216, 254, 254, 254, 254, 254, 254, 254, 254, 254, 251,  54,   0,   0,   0,   0,   0,   0,   0,   0,   0],\n",
              "       [  0,   0,   0,   0,   0,   0,   0,   3, 131, 197,  68, 137, 101,  83,  41,  70, 221, 254, 108,   0,   0,   0,   0,   0,   0,   0,   0,   0],\n",
              "       [  0,   0,   0,   0,   0,   0,   0,   0,   0,   0,   0,   0,   0,   0,   0,   0,  58, 254, 216,  11,   0,   0,   0,   0,   0,   0,   0,   0],\n",
              "       [  0,   0,   0,   0,   0,   0,   0,   0,   0,   0,   0,   0,   0,   0,   0,   0, 110, 254, 254,  24,   0,   0,   0,   0,   0,   0,   0,   0],\n",
              "       [  0,   0,   0,   0,   0,   0,   0,   0,   0,   0,   0,   0,   0,   0,   4,  83, 247, 254, 192,  10,   0,   0,   0,   0,   0,   0,   0,   0],\n",
              "       [  0,   0,   0,   0,   0,   0,   0,   0,   0,   0,   0,   0,   0,  37, 124, 254, 254, 250,  47,   0,   0,   0,   0,   0,   0,   0,   0,   0],\n",
              "       [  0,   0,   0,   0,   0,   0,   0,   0,   0,   0,   0, 113, 178, 250, 254, 254, 254, 252, 178, 128,  50,   0,   0,   0,   0,   0,   0,   0],\n",
              "       [  0,   0,   0,   0,   0,   0,   0,   0,   0,   0,  69, 252, 254, 254, 254, 254, 254, 254, 254, 254, 153,   0,   0,   0,   0,   0,   0,   0],\n",
              "       [  0,   0,   0,   0,   0,   0,   0,   0,   0,   0, 141, 252, 254, 241, 241, 254, 247, 252, 254, 254, 153,   0,   0,   0,   0,   0,   0,   0],\n",
              "       [  0,   0,   0,   0,   0,   0,   0,   0,   0,   0,   0,  68,  82,   5,   5,  82,  37,  65, 167, 254, 190,   0,   0,   0,   0,   0,   0,   0],\n",
              "       [  0,   0,   0,   0,   0,   0,   0,   0,   0,   0,   0,   0,   0,   0,   0,   0,   0,   0, 162, 254, 153,   0,   0,   0,   0,   0,   0,   0],\n",
              "       [  0,   0,   0,   0,   0,   0,   0,   0,   0,   0,   0,   0,   0,   0,   0,   0,   0,   1, 172, 253,  75,   0,   0,   0,   0,   0,   0,   0],\n",
              "       [  0,   0,   0,   0,   0,   0,   0,   0,   0,   0,   0,   0,   0,   0,   0,   0,   0, 102, 254, 152,   0,   0,   0,   0,   0,   0,   0,   0],\n",
              "       [  0,   0,   0,   0,   0,   0,   0,   0,   0,   0,   0,   0,   0,   0,   0,   0,  38, 230, 216,  20,   0,   0,   0,   0,   0,   0,   0,   0],\n",
              "       [  0,   0,   0,   0,   0,   0,   0,   0,   0,   0,   0,   0,   0,   0,   1,  71, 222, 254, 142,   0,   0,   0,   0,   0,   0,   0,   0,   0],\n",
              "       [  0,   0,   0,   0,   0,   0,   0,   0,   0,   0,   0,   0,   0,   0,  66, 254, 254, 157,   0,   0,   0,   0,   0,   0,   0,   0,   0,   0],\n",
              "       [  0,   0,   0,   0,   0,   0,   0,   0,   4,  34,  34,  78, 161, 226, 249, 254, 154,   6,   0,   0,   0,   0,   0,   0,   0,   0,   0,   0],\n",
              "       [  0,   0,   0,   0,   0,   0,   0,  96, 184, 254, 254, 254, 254, 254, 249,  93,   5,   0,   0,   0,   0,   0,   0,   0,   0,   0,   0,   0],\n",
              "       [  0,   0,   0,   0,   0,   0,   0,   0,   0,   0,   0,   0,   0,   0,   0,   0,   0,   0,   0,   0,   0,   0,   0,   0,   0,   0,   0,   0],\n",
              "       [  0,   0,   0,   0,   0,   0,   0,   0,   0,   0,   0,   0,   0,   0,   0,   0,   0,   0,   0,   0,   0,   0,   0,   0,   0,   0,   0,   0]], dtype=uint8)</pre></div><script>\n",
              "      (() => {\n",
              "      const titles = ['show data', 'hide data'];\n",
              "      let index = 0\n",
              "      document.querySelector('#id-46c0fb90-63a3-4fcf-8e7c-5aa8ab3f595c button').onclick = (e) => {\n",
              "        document.querySelector('#id-46c0fb90-63a3-4fcf-8e7c-5aa8ab3f595c').classList.toggle('show_array');\n",
              "        index = (++index) % 2;\n",
              "        document.querySelector('#id-46c0fb90-63a3-4fcf-8e7c-5aa8ab3f595c button').textContent = titles[index];\n",
              "        e.preventDefault();\n",
              "        e.stopPropagation();\n",
              "      }\n",
              "      })();\n",
              "    </script>"
            ]
          },
          "metadata": {},
          "execution_count": 3
        }
      ],
      "source": [
        "# Output example #2917 of the training set.\n",
        "x_train[2917]"
      ]
    },
    {
      "cell_type": "code",
      "execution_count": 4,
      "metadata": {
        "colab": {
          "base_uri": "https://localhost:8080/",
          "height": 448
        },
        "id": "44fYr9DL1bAY",
        "outputId": "c18d5a66-1c5e-4210-85b8-9491a18d3d68"
      },
      "outputs": [
        {
          "output_type": "execute_result",
          "data": {
            "text/plain": [
              "<matplotlib.image.AxesImage at 0x7db220a45ed0>"
            ]
          },
          "metadata": {},
          "execution_count": 4
        },
        {
          "output_type": "display_data",
          "data": {
            "text/plain": [
              "<Figure size 640x480 with 1 Axes>"
            ],
            "image/png": "[encoded data removed]"
          },
          "metadata": {}
        }
      ],
      "source": [
        "# Use false colors to visualize the array.\n",
        "plt.imshow(x_train[2917])"
      ]
    },
    {
      "cell_type": "code",
      "execution_count": 5,
      "metadata": {
        "colab": {
          "base_uri": "https://localhost:8080/"
        },
        "id": "mNzpwqbx1dvY",
        "outputId": "73484af1-dc70-4d33-b74f-1979d7f7b405"
      },
      "outputs": [
        {
          "output_type": "execute_result",
          "data": {
            "text/plain": [
              "array([  0,   0,   0,   0,   0,   0,   0,   0,   0,   0,   0,   0,   0,   0,   0,   0,  58, 254, 216,  11,   0,   0,   0,   0,   0,   0,   0,   0], dtype=uint8)"
            ]
          },
          "metadata": {},
          "execution_count": 5
        }
      ],
      "source": [
        "# Output row #10 of example #2917.\n",
        "x_train[2917][10]"
      ]
    },
    {
      "cell_type": "code",
      "execution_count": 6,
      "metadata": {
        "colab": {
          "base_uri": "https://localhost:8080/"
        },
        "id": "lHTBOmlC1hF7",
        "outputId": "e28ed23d-c267-4b05-eea7-3f952351656f"
      },
      "outputs": [
        {
          "output_type": "execute_result",
          "data": {
            "text/plain": [
              "0"
            ]
          },
          "metadata": {},
          "execution_count": 6
        }
      ],
      "source": [
        "# Output pixel #16 of row #10 of example #2900.\n",
        "x_train[2900][10][16]"
      ]
    },
    {
      "cell_type": "markdown",
      "metadata": {
        "id": "Xpkz3qFA1n-G"
      },
      "source": [
        "#Task 1: Normalize feature values"
      ]
    },
    {
      "cell_type": "code",
      "execution_count": 7,
      "metadata": {
        "colab": {
          "base_uri": "https://localhost:8080/"
        },
        "id": "BIQ9eZhS1izD",
        "outputId": "a7e76066-19a7-4561-b8f1-38958ad7fd2c"
      },
      "outputs": [
        {
          "output_type": "stream",
          "name": "stdout",
          "text": [
            "[0.         0.         0.         0.         0.         0.         0.         0.55294118 1.         0.66666667 0.11372549 0.         0.         0.         0.         0.         0.         0.\n",
            " 0.         0.         0.         0.         0.         0.         0.         0.         0.         0.        ]\n"
          ]
        }
      ],
      "source": [
        "x_train_normalized = x_train / 255.0\n",
        "x_test_normalized = x_test / 255.0\n",
        "print(x_train_normalized[2900][10]) # Output a normalized row"
      ]
    },
    {
      "cell_type": "markdown",
      "metadata": {
        "id": "ggsewPCy2S_C"
      },
      "source": [
        "#Define a plotting function"
      ]
    },
    {
      "cell_type": "code",
      "execution_count": 8,
      "metadata": {
        "colab": {
          "base_uri": "https://localhost:8080/"
        },
        "id": "x3amWBEP2Wys",
        "outputId": "f4b27fae-0297-45f8-fd23-929b070d2787"
      },
      "outputs": [
        {
          "output_type": "stream",
          "name": "stdout",
          "text": [
            "Loaded the plot_curve function.\n"
          ]
        }
      ],
      "source": [
        "#@title Define the plotting function\n",
        "def plot_curve(epochs, hist, list_of_metrics):\n",
        "  \"\"\"Plot a curve of one or more classification metrics vs. epoch.\"\"\"\n",
        "  # list_of_metrics should be one of the names shown in:\n",
        "  # https://www.tensorflow.org/tutorials/structured_data/imbalanced_data#define_the_model_and_metrics\n",
        "\n",
        "  plt.figure()\n",
        "  plt.xlabel(\"Epoch\")\n",
        "  plt.ylabel(\"Value\")\n",
        "\n",
        "  for m in list_of_metrics:\n",
        "    x = hist[m]\n",
        "    plt.plot(epochs[1:], x[1:], label=m)\n",
        "\n",
        "  plt.legend()\n",
        "\n",
        "print(\"Loaded the plot_curve function.\")"
      ]
    },
    {
      "cell_type": "markdown",
      "metadata": {
        "id": "ATwTE00i2d26"
      },
      "source": [
        "#Create a deep neural net model"
      ]
    },
    {
      "cell_type": "code",
      "execution_count": 9,
      "metadata": {
        "id": "gAlesTnG2gwK"
      },
      "outputs": [],
      "source": [
        "def create_model(my_learning_rate):\n",
        "  \"\"\"Create and compile a deep neural net.\"\"\"\n",
        "\n",
        "  # All models in this course are sequential.\n",
        "  model = tf.keras.models.Sequential()\n",
        "\n",
        "  # The features are stored in a two-dimensional 28X28 array.\n",
        "  # Flatten that two-dimensional array into a one-dimensional\n",
        "  # 784-element array.\n",
        "  model.add(tf.keras.layers.Flatten(input_shape=(28, 28)))\n",
        "\n",
        "  # Define the first hidden layer.\n",
        "  model.add(tf.keras.layers.Dense(units=32, activation='relu'))\n",
        "\n",
        "  # Define a dropout regularization layer.\n",
        "  model.add(tf.keras.layers.Dropout(rate=0.2))\n",
        "\n",
        "  # Define the output layer. The units parameter is set to 10 because\n",
        "  # the model must choose among 10 possible output values (representing\n",
        "  # the digits from 0 to 9, inclusive).\n",
        "  #\n",
        "  # Don't change this layer.\n",
        "  model.add(tf.keras.layers.Dense(units=10, activation='softmax'))\n",
        "\n",
        "  # Construct the layers into a model that TensorFlow can execute.\n",
        "  # Notice that the loss function for multi-class classification\n",
        "  # is different than the loss function for binary classification.\n",
        "  model.compile(optimizer=tf.keras.optimizers.Adam(learning_rate=my_learning_rate),\n",
        "                loss=\"sparse_categorical_crossentropy\",\n",
        "                metrics=['accuracy'])\n",
        "\n",
        "  return model\n",
        "\n",
        "\n",
        "def train_model(model, train_features, train_label, epochs,\n",
        "                batch_size=None, validation_split=0.1):\n",
        "  \"\"\"Train the model by feeding it data.\"\"\"\n",
        "\n",
        "  history = model.fit(x=train_features, y=train_label, batch_size=batch_size,\n",
        "                      epochs=epochs, shuffle=True,\n",
        "                      validation_split=validation_split)\n",
        "\n",
        "  # To track the progression of training, gather a snapshot\n",
        "  # of the model's metrics at each epoch.\n",
        "  epochs = history.epoch\n",
        "  hist = pd.DataFrame(history.history)\n",
        "\n",
        "  return epochs, hist"
      ]
    },
    {
      "cell_type": "markdown",
      "metadata": {
        "id": "aW1Nh6bX2oQp"
      },
      "source": [
        "#Invoke the previous functions"
      ]
    },
    {
      "cell_type": "code",
      "execution_count": 10,
      "metadata": {
        "colab": {
          "base_uri": "https://localhost:8080/",
          "height": 1000
        },
        "id": "-vOiMlKH2tT8",
        "outputId": "5138edcf-c419-413b-d4fc-2a17842186bf"
      },
      "outputs": [
        {
          "output_type": "stream",
          "name": "stdout",
          "text": [
            "Epoch 1/50\n",
            "12/12 [==============================] - 1s 54ms/step - loss: 1.7838 - accuracy: 0.4089 - val_loss: 1.0727 - val_accuracy: 0.7698\n",
            "Epoch 2/50\n",
            "12/12 [==============================] - 0s 27ms/step - loss: 0.9732 - accuracy: 0.7191 - val_loss: 0.5737 - val_accuracy: 0.8587\n",
            "Epoch 3/50\n",
            "12/12 [==============================] - 0s 26ms/step - loss: 0.6753 - accuracy: 0.7982 - val_loss: 0.4288 - val_accuracy: 0.8879\n",
            "Epoch 4/50\n",
            "12/12 [==============================] - 0s 24ms/step - loss: 0.5520 - accuracy: 0.8357 - val_loss: 0.3665 - val_accuracy: 0.9007\n",
            "Epoch 5/50\n",
            "12/12 [==============================] - 0s 25ms/step - loss: 0.4829 - accuracy: 0.8577 - val_loss: 0.3301 - val_accuracy: 0.9103\n",
            "Epoch 6/50\n",
            "12/12 [==============================] - 0s 25ms/step - loss: 0.4363 - accuracy: 0.8714 - val_loss: 0.3036 - val_accuracy: 0.9160\n",
            "Epoch 7/50\n",
            "12/12 [==============================] - 0s 27ms/step - loss: 0.4047 - accuracy: 0.8822 - val_loss: 0.2867 - val_accuracy: 0.9208\n",
            "Epoch 8/50\n",
            "12/12 [==============================] - 0s 25ms/step - loss: 0.3847 - accuracy: 0.8868 - val_loss: 0.2713 - val_accuracy: 0.9256\n",
            "Epoch 9/50\n",
            "12/12 [==============================] - 0s 24ms/step - loss: 0.3649 - accuracy: 0.8925 - val_loss: 0.2579 - val_accuracy: 0.9284\n",
            "Epoch 10/50\n",
            "12/12 [==============================] - 0s 27ms/step - loss: 0.3473 - accuracy: 0.8973 - val_loss: 0.2473 - val_accuracy: 0.9313\n",
            "Epoch 11/50\n",
            "12/12 [==============================] - 0s 24ms/step - loss: 0.3362 - accuracy: 0.9007 - val_loss: 0.2391 - val_accuracy: 0.9344\n",
            "Epoch 12/50\n",
            "12/12 [==============================] - 0s 25ms/step - loss: 0.3249 - accuracy: 0.9047 - val_loss: 0.2303 - val_accuracy: 0.9357\n",
            "Epoch 13/50\n",
            "12/12 [==============================] - 0s 26ms/step - loss: 0.3148 - accuracy: 0.9079 - val_loss: 0.2232 - val_accuracy: 0.9378\n",
            "Epoch 14/50\n",
            "12/12 [==============================] - 0s 26ms/step - loss: 0.3043 - accuracy: 0.9112 - val_loss: 0.2170 - val_accuracy: 0.9379\n",
            "Epoch 15/50\n",
            "12/12 [==============================] - 0s 32ms/step - loss: 0.2962 - accuracy: 0.9121 - val_loss: 0.2117 - val_accuracy: 0.9397\n",
            "Epoch 16/50\n",
            "12/12 [==============================] - 0s 30ms/step - loss: 0.2903 - accuracy: 0.9148 - val_loss: 0.2056 - val_accuracy: 0.9422\n",
            "Epoch 17/50\n",
            "12/12 [==============================] - 0s 32ms/step - loss: 0.2823 - accuracy: 0.9173 - val_loss: 0.2005 - val_accuracy: 0.9434\n",
            "Epoch 18/50\n",
            "12/12 [==============================] - 0s 25ms/step - loss: 0.2777 - accuracy: 0.9171 - val_loss: 0.1960 - val_accuracy: 0.9441\n",
            "Epoch 19/50\n",
            "12/12 [==============================] - 0s 24ms/step - loss: 0.2703 - accuracy: 0.9194 - val_loss: 0.1922 - val_accuracy: 0.9449\n",
            "Epoch 20/50\n",
            "12/12 [==============================] - 0s 26ms/step - loss: 0.2678 - accuracy: 0.9208 - val_loss: 0.1895 - val_accuracy: 0.9457\n",
            "Epoch 21/50\n",
            "12/12 [==============================] - 0s 24ms/step - loss: 0.2601 - accuracy: 0.9227 - val_loss: 0.1864 - val_accuracy: 0.9470\n",
            "Epoch 22/50\n",
            "12/12 [==============================] - 0s 25ms/step - loss: 0.2552 - accuracy: 0.9249 - val_loss: 0.1806 - val_accuracy: 0.9482\n",
            "Epoch 23/50\n",
            "12/12 [==============================] - 0s 28ms/step - loss: 0.2522 - accuracy: 0.9247 - val_loss: 0.1784 - val_accuracy: 0.9480\n",
            "Epoch 24/50\n",
            "12/12 [==============================] - 0s 27ms/step - loss: 0.2439 - accuracy: 0.9270 - val_loss: 0.1747 - val_accuracy: 0.9495\n",
            "Epoch 25/50\n",
            "12/12 [==============================] - 0s 25ms/step - loss: 0.2432 - accuracy: 0.9272 - val_loss: 0.1723 - val_accuracy: 0.9498\n",
            "Epoch 26/50\n",
            "12/12 [==============================] - 0s 28ms/step - loss: 0.2365 - accuracy: 0.9304 - val_loss: 0.1692 - val_accuracy: 0.9517\n",
            "Epoch 27/50\n",
            "12/12 [==============================] - 0s 36ms/step - loss: 0.2332 - accuracy: 0.9316 - val_loss: 0.1678 - val_accuracy: 0.9514\n",
            "Epoch 28/50\n",
            "12/12 [==============================] - 0s 39ms/step - loss: 0.2296 - accuracy: 0.9310 - val_loss: 0.1652 - val_accuracy: 0.9527\n",
            "Epoch 29/50\n",
            "12/12 [==============================] - 0s 37ms/step - loss: 0.2262 - accuracy: 0.9327 - val_loss: 0.1627 - val_accuracy: 0.9529\n",
            "Epoch 30/50\n",
            "12/12 [==============================] - 0s 42ms/step - loss: 0.2230 - accuracy: 0.9333 - val_loss: 0.1611 - val_accuracy: 0.9530\n",
            "Epoch 31/50\n",
            "12/12 [==============================] - 1s 44ms/step - loss: 0.2187 - accuracy: 0.9347 - val_loss: 0.1602 - val_accuracy: 0.9535\n",
            "Epoch 32/50\n",
            "12/12 [==============================] - 0s 40ms/step - loss: 0.2198 - accuracy: 0.9340 - val_loss: 0.1574 - val_accuracy: 0.9546\n",
            "Epoch 33/50\n",
            "12/12 [==============================] - 0s 40ms/step - loss: 0.2176 - accuracy: 0.9334 - val_loss: 0.1560 - val_accuracy: 0.9549\n",
            "Epoch 34/50\n",
            "12/12 [==============================] - 0s 27ms/step - loss: 0.2149 - accuracy: 0.9350 - val_loss: 0.1537 - val_accuracy: 0.9557\n",
            "Epoch 35/50\n",
            "12/12 [==============================] - 0s 23ms/step - loss: 0.2120 - accuracy: 0.9359 - val_loss: 0.1539 - val_accuracy: 0.9544\n",
            "Epoch 36/50\n",
            "12/12 [==============================] - 0s 27ms/step - loss: 0.2072 - accuracy: 0.9374 - val_loss: 0.1523 - val_accuracy: 0.9560\n",
            "Epoch 37/50\n",
            "12/12 [==============================] - 0s 25ms/step - loss: 0.2064 - accuracy: 0.9376 - val_loss: 0.1501 - val_accuracy: 0.9563\n",
            "Epoch 38/50\n",
            "12/12 [==============================] - 0s 24ms/step - loss: 0.2051 - accuracy: 0.9388 - val_loss: 0.1496 - val_accuracy: 0.9570\n",
            "Epoch 39/50\n",
            "12/12 [==============================] - 0s 27ms/step - loss: 0.2018 - accuracy: 0.9389 - val_loss: 0.1489 - val_accuracy: 0.9573\n",
            "Epoch 40/50\n",
            "12/12 [==============================] - 0s 24ms/step - loss: 0.2012 - accuracy: 0.9384 - val_loss: 0.1488 - val_accuracy: 0.9572\n",
            "Epoch 41/50\n",
            "12/12 [==============================] - 0s 28ms/step - loss: 0.1974 - accuracy: 0.9404 - val_loss: 0.1459 - val_accuracy: 0.9582\n",
            "Epoch 42/50\n",
            "12/12 [==============================] - 0s 24ms/step - loss: 0.1977 - accuracy: 0.9403 - val_loss: 0.1458 - val_accuracy: 0.9572\n",
            "Epoch 43/50\n",
            "12/12 [==============================] - 0s 25ms/step - loss: 0.1948 - accuracy: 0.9417 - val_loss: 0.1442 - val_accuracy: 0.9590\n",
            "Epoch 44/50\n",
            "12/12 [==============================] - 0s 27ms/step - loss: 0.1921 - accuracy: 0.9414 - val_loss: 0.1430 - val_accuracy: 0.9578\n",
            "Epoch 45/50\n",
            "12/12 [==============================] - 0s 27ms/step - loss: 0.1907 - accuracy: 0.9417 - val_loss: 0.1420 - val_accuracy: 0.9582\n",
            "Epoch 46/50\n",
            "12/12 [==============================] - 0s 25ms/step - loss: 0.1902 - accuracy: 0.9409 - val_loss: 0.1443 - val_accuracy: 0.9594\n",
            "Epoch 47/50\n",
            "12/12 [==============================] - 0s 25ms/step - loss: 0.1885 - accuracy: 0.9425 - val_loss: 0.1414 - val_accuracy: 0.9592\n",
            "Epoch 48/50\n",
            "12/12 [==============================] - 0s 26ms/step - loss: 0.1896 - accuracy: 0.9416 - val_loss: 0.1394 - val_accuracy: 0.9598\n",
            "Epoch 49/50\n",
            "12/12 [==============================] - 0s 25ms/step - loss: 0.1835 - accuracy: 0.9449 - val_loss: 0.1392 - val_accuracy: 0.9599\n",
            "Epoch 50/50\n",
            "12/12 [==============================] - 0s 24ms/step - loss: 0.1840 - accuracy: 0.9439 - val_loss: 0.1388 - val_accuracy: 0.9608\n",
            "\n",
            " Evaluate the new model against the test set:\n",
            "3/3 [==============================] - 0s 10ms/step - loss: 0.1419 - accuracy: 0.9599\n"
          ]
        },
        {
          "output_type": "execute_result",
          "data": {
            "text/plain": [
              "[0.1419038027524948, 0.9599000215530396]"
            ]
          },
          "metadata": {},
          "execution_count": 10
        },
        {
          "output_type": "display_data",
          "data": {
            "text/plain": [
              "<Figure size 640x480 with 1 Axes>"
            ],
            "image/png": "[encoded data removed]"
          },
          "metadata": {}
        }
      ],
      "source": [
        "# The following variables are the hyperparameters.\n",
        "learning_rate = 0.003\n",
        "epochs = 50\n",
        "batch_size = 4000\n",
        "validation_split = 0.2\n",
        "\n",
        "# Establish the model's topography.\n",
        "my_model = create_model(learning_rate)\n",
        "\n",
        "# Train the model on the normalized training set.\n",
        "epochs, hist = train_model(my_model, x_train_normalized, y_train,\n",
        "                           epochs, batch_size, validation_split)\n",
        "\n",
        "# Plot a graph of the metric vs. epochs.\n",
        "list_of_metrics_to_plot = ['accuracy']\n",
        "plot_curve(epochs, hist, list_of_metrics_to_plot)\n",
        "\n",
        "# Evaluate against the test set.\n",
        "print(\"\\n Evaluate the new model against the test set:\")\n",
        "my_model.evaluate(x=x_test_normalized, y=y_test, batch_size=batch_size)"
      ]
    },
    {
      "cell_type": "markdown",
      "metadata": {
        "id": "c5BkTIwL24ro"
      },
      "source": [
        "#Task 2: Optimize the model"
      ]
    },
    {
      "cell_type": "code",
      "execution_count": null,
      "metadata": {
        "id": "lqHo-_pj24bp"
      },
      "outputs": [],
      "source": [
        "#@title Double-click to view some possible answers.\n",
        "\n",
        "# It would take much too long to experiment\n",
        "# fully with topography and dropout regularization\n",
        "# rate. In the real world, you would\n",
        "# also experiment with learning rate, batch size,\n",
        "# and number of epochs.  Since you only have a\n",
        "# few minutes, searching for trends can be helpful.\n",
        "# Here is what we discovered:\n",
        "#   * Adding more nodes (at least until 256 nodes)\n",
        "#     to the first hidden layer improved accuracy.\n",
        "#   * Adding a second hidden layer generally\n",
        "#     improved accuracy.\n",
        "#   * When the model contains a lot of nodes,\n",
        "#     the model overfits unless the dropout rate\n",
        "#     is at least 0.5.\n",
        "\n",
        "# We reached 98% test accuracy with the\n",
        "# following configuration:\n",
        "#   * One hidden layer of 256 nodes; no second\n",
        "#     hidden layer.\n",
        "#   * dropout regularization rate of 0.4\n",
        "\n",
        "# We reached 98.2% test accuracy with the\n",
        "# following configuration:\n",
        "#   * First hidden layer of 256 nodes;\n",
        "#     second hidden layer of 128 nodes.\n",
        "#   * dropout regularization rate of 0.2"
      ]
    },
    {
      "cell_type": "code",
      "execution_count": 11,
      "metadata": {
        "id": "WSanR4RITXN4"
      },
      "outputs": [],
      "source": [
        "from tensorflow.keras.models import Sequential\n",
        "from tensorflow.keras.layers import Dense, Dropout, Flatten\n",
        "from tensorflow.keras.utils import to_categorical\n",
        "import numpy as np"
      ]
    },
    {
      "cell_type": "code",
      "source": [
        "# Define the hyperparameters\n",
        "learning_rate = 0.003\n",
        "num_epochs = 50\n",
        "batch_size = 4000\n",
        "validation_split = 0.2\n",
        "input_shape = x_train_normalized.shape[1]\n",
        "\n",
        "# Convert labels to one-hot encoded vectors\n",
        "y_train_encoded = to_categorical(y_train, 10)\n",
        "y_test_encoded = to_categorical(y_test, 10)\n",
        "\n",
        "# Verify the updated shape of y_train_encoded\n",
        "print(\"Updated shape of y_train_encoded:\", y_train_encoded.shape)"
      ],
      "metadata": {
        "colab": {
          "base_uri": "https://localhost:8080/"
        },
        "id": "SegelZQr7U2N",
        "outputId": "294d8a28-813a-422e-fe95-5e902b52cd51"
      },
      "execution_count": 35,
      "outputs": [
        {
          "output_type": "stream",
          "name": "stdout",
          "text": [
            "Updated shape of y_train_encoded: (60000, 10)\n"
          ]
        }
      ]
    },
    {
      "cell_type": "markdown",
      "source": [
        "##Configuration 1"
      ],
      "metadata": {
        "id": "qCUr9zUf7ZdR"
      }
    },
    {
      "cell_type": "code",
      "execution_count": 36,
      "metadata": {
        "id": "SL28swUsRQ8n"
      },
      "outputs": [],
      "source": [
        "def create_cnn_model_con1(input_shape, learning_rate, drop_out):\n",
        "  \"\"\"\"create and complie a cnn.\"\"\"\n",
        "\n",
        "  # All models in this course are sequential.\n",
        "  model = Sequential()\n",
        "\n",
        "  model.add(Flatten())\n",
        "  model.add(Dense(256, activation='relu', input_shape=(input_shape,)))\n",
        "  model.add(Dropout(drop_out))\n",
        "  model.add(Dense(units=10, activation='softmax'))\n",
        "  optimizer = tf.keras.optimizers.Adam(learning_rate=learning_rate)\n",
        "  model.compile(optimizer=optimizer, loss='categorical_crossentropy', metrics=['accuracy'])\n",
        "\n",
        "  return model"
      ]
    },
    {
      "cell_type": "code",
      "source": [
        "# Configuration 1: One hidden layer of 256 nodes; no second hidden layer; dropout rate of 0.4\n",
        "drop_out = 0.4\n",
        "model1 = create_cnn_model_con1(input_shape, learning_rate, drop_out)\n",
        "epochs, hist = train_model(model1, x_train_normalized, y_train_encoded, num_epochs, batch_size, validation_split)\n",
        "\n",
        "# Evaluate against the test set.\n",
        "print(\"\\n Evaluate the new model against the test set:\")\n",
        "test_loss1, test_accuracy1 = model1.evaluate(x_test_normalized, y_test_encoded, batch_size=batch_size)"
      ],
      "metadata": {
        "colab": {
          "base_uri": "https://localhost:8080/"
        },
        "id": "F3B6ygr2eM53",
        "outputId": "54959767-3653-4ef6-b049-91c7e56da879"
      },
      "execution_count": 37,
      "outputs": [
        {
          "output_type": "stream",
          "name": "stdout",
          "text": [
            "Epoch 1/50\n",
            "12/12 [==============================] - 2s 101ms/step - loss: 1.0714 - accuracy: 0.6720 - val_loss: 0.3849 - val_accuracy: 0.8867\n",
            "Epoch 2/50\n",
            "12/12 [==============================] - 1s 83ms/step - loss: 0.4290 - accuracy: 0.8694 - val_loss: 0.2839 - val_accuracy: 0.9192\n",
            "Epoch 3/50\n",
            "12/12 [==============================] - 1s 85ms/step - loss: 0.3214 - accuracy: 0.9038 - val_loss: 0.2371 - val_accuracy: 0.9344\n",
            "Epoch 4/50\n",
            "12/12 [==============================] - 1s 85ms/step - loss: 0.2676 - accuracy: 0.9225 - val_loss: 0.2021 - val_accuracy: 0.9439\n",
            "Epoch 5/50\n",
            "12/12 [==============================] - 1s 89ms/step - loss: 0.2327 - accuracy: 0.9324 - val_loss: 0.1816 - val_accuracy: 0.9482\n",
            "Epoch 6/50\n",
            "12/12 [==============================] - 1s 78ms/step - loss: 0.2076 - accuracy: 0.9405 - val_loss: 0.1639 - val_accuracy: 0.9535\n",
            "Epoch 7/50\n",
            "12/12 [==============================] - 1s 84ms/step - loss: 0.1867 - accuracy: 0.9466 - val_loss: 0.1502 - val_accuracy: 0.9562\n",
            "Epoch 8/50\n",
            "12/12 [==============================] - 1s 93ms/step - loss: 0.1714 - accuracy: 0.9504 - val_loss: 0.1397 - val_accuracy: 0.9593\n",
            "Epoch 9/50\n",
            "12/12 [==============================] - 2s 184ms/step - loss: 0.1569 - accuracy: 0.9536 - val_loss: 0.1329 - val_accuracy: 0.9610\n",
            "Epoch 10/50\n",
            "12/12 [==============================] - 2s 137ms/step - loss: 0.1477 - accuracy: 0.9559 - val_loss: 0.1241 - val_accuracy: 0.9633\n",
            "Epoch 11/50\n",
            "12/12 [==============================] - 1s 80ms/step - loss: 0.1363 - accuracy: 0.9606 - val_loss: 0.1185 - val_accuracy: 0.9640\n",
            "Epoch 12/50\n",
            "12/12 [==============================] - 1s 83ms/step - loss: 0.1273 - accuracy: 0.9641 - val_loss: 0.1121 - val_accuracy: 0.9665\n",
            "Epoch 13/50\n",
            "12/12 [==============================] - 1s 114ms/step - loss: 0.1185 - accuracy: 0.9660 - val_loss: 0.1080 - val_accuracy: 0.9676\n",
            "Epoch 14/50\n",
            "12/12 [==============================] - 1s 109ms/step - loss: 0.1127 - accuracy: 0.9675 - val_loss: 0.1035 - val_accuracy: 0.9685\n",
            "Epoch 15/50\n",
            "12/12 [==============================] - 1s 125ms/step - loss: 0.1047 - accuracy: 0.9692 - val_loss: 0.1005 - val_accuracy: 0.9706\n",
            "Epoch 16/50\n",
            "12/12 [==============================] - 1s 80ms/step - loss: 0.1001 - accuracy: 0.9706 - val_loss: 0.0971 - val_accuracy: 0.9712\n",
            "Epoch 17/50\n",
            "12/12 [==============================] - 1s 86ms/step - loss: 0.0959 - accuracy: 0.9724 - val_loss: 0.0948 - val_accuracy: 0.9709\n",
            "Epoch 18/50\n",
            "12/12 [==============================] - 1s 80ms/step - loss: 0.0908 - accuracy: 0.9733 - val_loss: 0.0927 - val_accuracy: 0.9710\n",
            "Epoch 19/50\n",
            "12/12 [==============================] - 1s 116ms/step - loss: 0.0869 - accuracy: 0.9751 - val_loss: 0.0900 - val_accuracy: 0.9723\n",
            "Epoch 20/50\n",
            "12/12 [==============================] - 2s 132ms/step - loss: 0.0830 - accuracy: 0.9760 - val_loss: 0.0879 - val_accuracy: 0.9727\n",
            "Epoch 21/50\n",
            "12/12 [==============================] - 2s 142ms/step - loss: 0.0798 - accuracy: 0.9765 - val_loss: 0.0870 - val_accuracy: 0.9728\n",
            "Epoch 22/50\n",
            "12/12 [==============================] - 1s 123ms/step - loss: 0.0762 - accuracy: 0.9769 - val_loss: 0.0851 - val_accuracy: 0.9737\n",
            "Epoch 23/50\n",
            "12/12 [==============================] - 2s 171ms/step - loss: 0.0722 - accuracy: 0.9795 - val_loss: 0.0821 - val_accuracy: 0.9751\n",
            "Epoch 24/50\n",
            "12/12 [==============================] - 2s 149ms/step - loss: 0.0673 - accuracy: 0.9805 - val_loss: 0.0824 - val_accuracy: 0.9740\n",
            "Epoch 25/50\n",
            "12/12 [==============================] - 1s 79ms/step - loss: 0.0659 - accuracy: 0.9802 - val_loss: 0.0814 - val_accuracy: 0.9743\n",
            "Epoch 26/50\n",
            "12/12 [==============================] - 1s 78ms/step - loss: 0.0635 - accuracy: 0.9813 - val_loss: 0.0803 - val_accuracy: 0.9758\n",
            "Epoch 27/50\n",
            "12/12 [==============================] - 1s 82ms/step - loss: 0.0598 - accuracy: 0.9830 - val_loss: 0.0775 - val_accuracy: 0.9764\n",
            "Epoch 28/50\n",
            "12/12 [==============================] - 1s 84ms/step - loss: 0.0595 - accuracy: 0.9821 - val_loss: 0.0779 - val_accuracy: 0.9763\n",
            "Epoch 29/50\n",
            "12/12 [==============================] - 1s 123ms/step - loss: 0.0577 - accuracy: 0.9827 - val_loss: 0.0763 - val_accuracy: 0.9760\n",
            "Epoch 30/50\n",
            "12/12 [==============================] - 2s 142ms/step - loss: 0.0558 - accuracy: 0.9835 - val_loss: 0.0761 - val_accuracy: 0.9771\n",
            "Epoch 31/50\n",
            "12/12 [==============================] - 1s 87ms/step - loss: 0.0526 - accuracy: 0.9843 - val_loss: 0.0746 - val_accuracy: 0.9771\n",
            "Epoch 32/50\n",
            "12/12 [==============================] - 1s 78ms/step - loss: 0.0513 - accuracy: 0.9844 - val_loss: 0.0756 - val_accuracy: 0.9768\n",
            "Epoch 33/50\n",
            "12/12 [==============================] - 1s 84ms/step - loss: 0.0491 - accuracy: 0.9855 - val_loss: 0.0756 - val_accuracy: 0.9770\n",
            "Epoch 34/50\n",
            "12/12 [==============================] - 1s 85ms/step - loss: 0.0480 - accuracy: 0.9858 - val_loss: 0.0732 - val_accuracy: 0.9774\n",
            "Epoch 35/50\n",
            "12/12 [==============================] - 1s 84ms/step - loss: 0.0465 - accuracy: 0.9858 - val_loss: 0.0740 - val_accuracy: 0.9768\n",
            "Epoch 36/50\n",
            "12/12 [==============================] - 1s 79ms/step - loss: 0.0457 - accuracy: 0.9861 - val_loss: 0.0724 - val_accuracy: 0.9776\n",
            "Epoch 37/50\n",
            "12/12 [==============================] - 1s 84ms/step - loss: 0.0429 - accuracy: 0.9873 - val_loss: 0.0730 - val_accuracy: 0.9777\n",
            "Epoch 38/50\n",
            "12/12 [==============================] - 1s 84ms/step - loss: 0.0436 - accuracy: 0.9864 - val_loss: 0.0726 - val_accuracy: 0.9781\n",
            "Epoch 39/50\n",
            "12/12 [==============================] - 1s 80ms/step - loss: 0.0405 - accuracy: 0.9878 - val_loss: 0.0739 - val_accuracy: 0.9781\n",
            "Epoch 40/50\n",
            "12/12 [==============================] - 1s 84ms/step - loss: 0.0420 - accuracy: 0.9870 - val_loss: 0.0721 - val_accuracy: 0.9780\n",
            "Epoch 41/50\n",
            "12/12 [==============================] - 1s 127ms/step - loss: 0.0401 - accuracy: 0.9884 - val_loss: 0.0721 - val_accuracy: 0.9785\n",
            "Epoch 42/50\n",
            "12/12 [==============================] - 2s 140ms/step - loss: 0.0369 - accuracy: 0.9894 - val_loss: 0.0721 - val_accuracy: 0.9789\n",
            "Epoch 43/50\n",
            "12/12 [==============================] - 1s 89ms/step - loss: 0.0359 - accuracy: 0.9893 - val_loss: 0.0708 - val_accuracy: 0.9793\n",
            "Epoch 44/50\n",
            "12/12 [==============================] - 1s 83ms/step - loss: 0.0349 - accuracy: 0.9897 - val_loss: 0.0714 - val_accuracy: 0.9792\n",
            "Epoch 45/50\n",
            "12/12 [==============================] - 1s 79ms/step - loss: 0.0343 - accuracy: 0.9895 - val_loss: 0.0710 - val_accuracy: 0.9792\n",
            "Epoch 46/50\n",
            "12/12 [==============================] - 1s 80ms/step - loss: 0.0347 - accuracy: 0.9897 - val_loss: 0.0697 - val_accuracy: 0.9795\n",
            "Epoch 47/50\n",
            "12/12 [==============================] - 1s 85ms/step - loss: 0.0329 - accuracy: 0.9904 - val_loss: 0.0713 - val_accuracy: 0.9809\n",
            "Epoch 48/50\n",
            "12/12 [==============================] - 1s 107ms/step - loss: 0.0313 - accuracy: 0.9908 - val_loss: 0.0715 - val_accuracy: 0.9800\n",
            "Epoch 49/50\n",
            "12/12 [==============================] - 1s 84ms/step - loss: 0.0328 - accuracy: 0.9902 - val_loss: 0.0715 - val_accuracy: 0.9795\n",
            "Epoch 50/50\n",
            "12/12 [==============================] - 1s 79ms/step - loss: 0.0312 - accuracy: 0.9905 - val_loss: 0.0714 - val_accuracy: 0.9805\n",
            "\n",
            " Evaluate the new model against the test set:\n",
            "3/3 [==============================] - 0s 24ms/step - loss: 0.0652 - accuracy: 0.9796\n"
          ]
        }
      ]
    },
    {
      "cell_type": "markdown",
      "source": [
        "##Configuration 2"
      ],
      "metadata": {
        "id": "AA7eanMX7pJ3"
      }
    },
    {
      "cell_type": "code",
      "source": [
        "def create_cnn_model_con2(input_shape, learning_rate, drop_out):\n",
        "  \"\"\"\"create and complie a cnn.\"\"\"\n",
        "\n",
        "  # All models in this course are sequential.\n",
        "  model = Sequential()\n",
        "\n",
        "  model.add(Flatten())\n",
        "  model.add(Dense(256, activation='relu', input_shape=(input_shape,)))\n",
        "  model.add(Dense(128, activation='relu'))\n",
        "  model.add(Dropout(drop_out))\n",
        "  model.add(Dense(units=10, activation='softmax'))\n",
        "  optimizer = tf.keras.optimizers.Adam(learning_rate=learning_rate)\n",
        "  model.compile(optimizer=optimizer, loss='categorical_crossentropy', metrics=['accuracy'])\n",
        "\n",
        "  return model"
      ],
      "metadata": {
        "id": "yl7y5Y6T7oGu"
      },
      "execution_count": 38,
      "outputs": []
    },
    {
      "cell_type": "code",
      "source": [
        "# Configuration 2: First hidden layer of 256 nodes; second hidden layer of 128 nodes; dropout rate of 0.2\n",
        "drop_out = 0.2\n",
        "model2 = create_cnn_model_con2(input_shape, learning_rate, drop_out)\n",
        "epochs, hist = train_model(model2, x_train_normalized, y_train_encoded, num_epochs, batch_size, validation_split)\n",
        "\n",
        "# Evaluate against the test set.\n",
        "print(\"\\n Evaluate the new model against the test set:\")\n",
        "test_loss2, test_accuracy2 = model2.evaluate(x_test_normalized, y_test_encoded, batch_size=batch_size)"
      ],
      "metadata": {
        "colab": {
          "base_uri": "https://localhost:8080/"
        },
        "id": "Wgo55DYweQSS",
        "outputId": "6f30c16c-dafc-40fc-cad9-1f5c816dff68"
      },
      "execution_count": 39,
      "outputs": [
        {
          "output_type": "stream",
          "name": "stdout",
          "text": [
            "Epoch 1/50\n",
            "12/12 [==============================] - 2s 116ms/step - loss: 0.9981 - accuracy: 0.6966 - val_loss: 0.3386 - val_accuracy: 0.9014\n",
            "Epoch 2/50\n",
            "12/12 [==============================] - 1s 92ms/step - loss: 0.3545 - accuracy: 0.8945 - val_loss: 0.2424 - val_accuracy: 0.9277\n",
            "Epoch 3/50\n",
            "12/12 [==============================] - 1s 92ms/step - loss: 0.2532 - accuracy: 0.9254 - val_loss: 0.1866 - val_accuracy: 0.9451\n",
            "Epoch 4/50\n",
            "12/12 [==============================] - 1s 114ms/step - loss: 0.1967 - accuracy: 0.9423 - val_loss: 0.1594 - val_accuracy: 0.9532\n",
            "Epoch 5/50\n",
            "12/12 [==============================] - 2s 143ms/step - loss: 0.1615 - accuracy: 0.9518 - val_loss: 0.1382 - val_accuracy: 0.9587\n",
            "Epoch 6/50\n",
            "12/12 [==============================] - 2s 129ms/step - loss: 0.1377 - accuracy: 0.9590 - val_loss: 0.1244 - val_accuracy: 0.9612\n",
            "Epoch 7/50\n",
            "12/12 [==============================] - 1s 94ms/step - loss: 0.1205 - accuracy: 0.9640 - val_loss: 0.1189 - val_accuracy: 0.9646\n",
            "Epoch 8/50\n",
            "12/12 [==============================] - 1s 95ms/step - loss: 0.1032 - accuracy: 0.9700 - val_loss: 0.1098 - val_accuracy: 0.9663\n",
            "Epoch 9/50\n",
            "12/12 [==============================] - 1s 88ms/step - loss: 0.0912 - accuracy: 0.9731 - val_loss: 0.1021 - val_accuracy: 0.9688\n",
            "Epoch 10/50\n",
            "12/12 [==============================] - 1s 91ms/step - loss: 0.0819 - accuracy: 0.9758 - val_loss: 0.0954 - val_accuracy: 0.9701\n",
            "Epoch 11/50\n",
            "12/12 [==============================] - 1s 88ms/step - loss: 0.0710 - accuracy: 0.9792 - val_loss: 0.0921 - val_accuracy: 0.9723\n",
            "Epoch 12/50\n",
            "12/12 [==============================] - 1s 86ms/step - loss: 0.0628 - accuracy: 0.9811 - val_loss: 0.0915 - val_accuracy: 0.9725\n",
            "Epoch 13/50\n",
            "12/12 [==============================] - 1s 87ms/step - loss: 0.0562 - accuracy: 0.9835 - val_loss: 0.0854 - val_accuracy: 0.9743\n",
            "Epoch 14/50\n",
            "12/12 [==============================] - 1s 87ms/step - loss: 0.0486 - accuracy: 0.9860 - val_loss: 0.0888 - val_accuracy: 0.9735\n",
            "Epoch 15/50\n",
            "12/12 [==============================] - 1s 92ms/step - loss: 0.0437 - accuracy: 0.9871 - val_loss: 0.0840 - val_accuracy: 0.9747\n",
            "Epoch 16/50\n",
            "12/12 [==============================] - 2s 145ms/step - loss: 0.0407 - accuracy: 0.9873 - val_loss: 0.0841 - val_accuracy: 0.9753\n",
            "Epoch 17/50\n",
            "12/12 [==============================] - 2s 142ms/step - loss: 0.0374 - accuracy: 0.9895 - val_loss: 0.0804 - val_accuracy: 0.9764\n",
            "Epoch 18/50\n",
            "12/12 [==============================] - 1s 86ms/step - loss: 0.0328 - accuracy: 0.9906 - val_loss: 0.0838 - val_accuracy: 0.9769\n",
            "Epoch 19/50\n",
            "12/12 [==============================] - 1s 91ms/step - loss: 0.0294 - accuracy: 0.9917 - val_loss: 0.0795 - val_accuracy: 0.9767\n",
            "Epoch 20/50\n",
            "12/12 [==============================] - 1s 92ms/step - loss: 0.0269 - accuracy: 0.9924 - val_loss: 0.0802 - val_accuracy: 0.9771\n",
            "Epoch 21/50\n",
            "12/12 [==============================] - 1s 92ms/step - loss: 0.0236 - accuracy: 0.9940 - val_loss: 0.0798 - val_accuracy: 0.9765\n",
            "Epoch 22/50\n",
            "12/12 [==============================] - 1s 97ms/step - loss: 0.0207 - accuracy: 0.9945 - val_loss: 0.0812 - val_accuracy: 0.9777\n",
            "Epoch 23/50\n",
            "12/12 [==============================] - 2s 136ms/step - loss: 0.0198 - accuracy: 0.9946 - val_loss: 0.0838 - val_accuracy: 0.9773\n",
            "Epoch 24/50\n",
            "12/12 [==============================] - 2s 134ms/step - loss: 0.0179 - accuracy: 0.9952 - val_loss: 0.0837 - val_accuracy: 0.9767\n",
            "Epoch 25/50\n",
            "12/12 [==============================] - 1s 86ms/step - loss: 0.0161 - accuracy: 0.9960 - val_loss: 0.0847 - val_accuracy: 0.9771\n",
            "Epoch 26/50\n",
            "12/12 [==============================] - 1s 121ms/step - loss: 0.0154 - accuracy: 0.9957 - val_loss: 0.0866 - val_accuracy: 0.9763\n",
            "Epoch 27/50\n",
            "12/12 [==============================] - 2s 141ms/step - loss: 0.0148 - accuracy: 0.9961 - val_loss: 0.0874 - val_accuracy: 0.9766\n",
            "Epoch 28/50\n",
            "12/12 [==============================] - 1s 112ms/step - loss: 0.0133 - accuracy: 0.9966 - val_loss: 0.0834 - val_accuracy: 0.9779\n",
            "Epoch 29/50\n",
            "12/12 [==============================] - 1s 91ms/step - loss: 0.0119 - accuracy: 0.9970 - val_loss: 0.0873 - val_accuracy: 0.9782\n",
            "Epoch 30/50\n",
            "12/12 [==============================] - 1s 92ms/step - loss: 0.0110 - accuracy: 0.9971 - val_loss: 0.0871 - val_accuracy: 0.9777\n",
            "Epoch 31/50\n",
            "12/12 [==============================] - 1s 87ms/step - loss: 0.0094 - accuracy: 0.9979 - val_loss: 0.0884 - val_accuracy: 0.9784\n",
            "Epoch 32/50\n",
            "12/12 [==============================] - 1s 91ms/step - loss: 0.0087 - accuracy: 0.9981 - val_loss: 0.0894 - val_accuracy: 0.9771\n",
            "Epoch 33/50\n",
            "12/12 [==============================] - 1s 93ms/step - loss: 0.0077 - accuracy: 0.9981 - val_loss: 0.0879 - val_accuracy: 0.9782\n",
            "Epoch 34/50\n",
            "12/12 [==============================] - 1s 92ms/step - loss: 0.0069 - accuracy: 0.9986 - val_loss: 0.0891 - val_accuracy: 0.9787\n",
            "Epoch 35/50\n",
            "12/12 [==============================] - 2s 145ms/step - loss: 0.0064 - accuracy: 0.9988 - val_loss: 0.0906 - val_accuracy: 0.9786\n",
            "Epoch 36/50\n",
            "12/12 [==============================] - 1s 104ms/step - loss: 0.0058 - accuracy: 0.9988 - val_loss: 0.0908 - val_accuracy: 0.9785\n",
            "Epoch 37/50\n",
            "12/12 [==============================] - 2s 170ms/step - loss: 0.0062 - accuracy: 0.9987 - val_loss: 0.0923 - val_accuracy: 0.9786\n",
            "Epoch 38/50\n",
            "12/12 [==============================] - 2s 199ms/step - loss: 0.0057 - accuracy: 0.9988 - val_loss: 0.0914 - val_accuracy: 0.9791\n",
            "Epoch 39/50\n",
            "12/12 [==============================] - 2s 125ms/step - loss: 0.0046 - accuracy: 0.9991 - val_loss: 0.0952 - val_accuracy: 0.9778\n",
            "Epoch 40/50\n",
            "12/12 [==============================] - 1s 92ms/step - loss: 0.0050 - accuracy: 0.9989 - val_loss: 0.0975 - val_accuracy: 0.9773\n",
            "Epoch 41/50\n",
            "12/12 [==============================] - 1s 87ms/step - loss: 0.0048 - accuracy: 0.9989 - val_loss: 0.0926 - val_accuracy: 0.9789\n",
            "Epoch 42/50\n",
            "12/12 [==============================] - 1s 91ms/step - loss: 0.0047 - accuracy: 0.9989 - val_loss: 0.0942 - val_accuracy: 0.9785\n",
            "Epoch 43/50\n",
            "12/12 [==============================] - 1s 91ms/step - loss: 0.0047 - accuracy: 0.9990 - val_loss: 0.0949 - val_accuracy: 0.9787\n",
            "Epoch 44/50\n",
            "12/12 [==============================] - 1s 91ms/step - loss: 0.0043 - accuracy: 0.9992 - val_loss: 0.0952 - val_accuracy: 0.9786\n",
            "Epoch 45/50\n",
            "12/12 [==============================] - 1s 87ms/step - loss: 0.0033 - accuracy: 0.9994 - val_loss: 0.0984 - val_accuracy: 0.9783\n",
            "Epoch 46/50\n",
            "12/12 [==============================] - 1s 86ms/step - loss: 0.0029 - accuracy: 0.9996 - val_loss: 0.0999 - val_accuracy: 0.9772\n",
            "Epoch 47/50\n",
            "12/12 [==============================] - 1s 87ms/step - loss: 0.0031 - accuracy: 0.9995 - val_loss: 0.0983 - val_accuracy: 0.9783\n",
            "Epoch 48/50\n",
            "12/12 [==============================] - 1s 91ms/step - loss: 0.0029 - accuracy: 0.9995 - val_loss: 0.0984 - val_accuracy: 0.9784\n",
            "Epoch 49/50\n",
            "12/12 [==============================] - 2s 159ms/step - loss: 0.0029 - accuracy: 0.9996 - val_loss: 0.0984 - val_accuracy: 0.9787\n",
            "Epoch 50/50\n",
            "12/12 [==============================] - 2s 143ms/step - loss: 0.0028 - accuracy: 0.9995 - val_loss: 0.0995 - val_accuracy: 0.9785\n",
            "\n",
            " Evaluate the new model against the test set:\n",
            "3/3 [==============================] - 0s 28ms/step - loss: 0.0809 - accuracy: 0.9811\n"
          ]
        }
      ]
    },
    {
      "cell_type": "code",
      "execution_count": 40,
      "metadata": {
        "colab": {
          "base_uri": "https://localhost:8080/"
        },
        "id": "jqB5VOKoPcAl",
        "outputId": "fe2e8d9a-f210-4eaa-9024-0eb1a8f419ee"
      },
      "outputs": [
        {
          "output_type": "stream",
          "name": "stdout",
          "text": [
            "Configuration 1:\n",
            "Test Accuracy: 0.9796000123023987\n",
            "----------\n",
            "Configuration 2:\n",
            "Test Accuracy: 0.9811000227928162\n"
          ]
        }
      ],
      "source": [
        "print(\"Configuration 1:\")\n",
        "print(f\"Test Accuracy: {test_accuracy1}\")\n",
        "print(\"----------\")\n",
        "print(\"Configuration 2:\")\n",
        "print(f\"Test Accuracy: {test_accuracy2}\")"
      ]
    }
  ],
  "metadata": {
    "colab": {
      "provenance": []
    },
    "kernelspec": {
      "display_name": "Python 3",
      "name": "python3"
    },
    "language_info": {
      "name": "python"
    }
  },
  "nbformat": 4,
  "nbformat_minor": 0
}